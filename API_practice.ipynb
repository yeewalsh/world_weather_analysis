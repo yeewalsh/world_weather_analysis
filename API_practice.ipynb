{
 "cells": [
  {
   "cell_type": "code",
   "execution_count": 1,
   "id": "fe4b5f99",
   "metadata": {},
   "outputs": [],
   "source": [
    "# create a practice set of random latitude and longitude combinations\n",
    "x = [25.12903645, 25.92017388, 26.62509167, -59.98969384, 37.30571269]\n",
    "y = [-67.59741259, 11.09532135, 74.84233102, -76.89176677, -61.13376282]\n",
    "coordinates = zip(x, y)"
   ]
  },
  {
   "cell_type": "code",
   "execution_count": 2,
   "id": "034112f3",
   "metadata": {},
   "outputs": [
    {
     "name": "stdout",
     "output_type": "stream",
     "text": [
      "25.12903645 -67.59741259\n",
      "25.92017388 11.09532135\n",
      "26.62509167 74.84233102\n",
      "-59.98969384 -76.89176677\n",
      "37.30571269 -61.13376282\n"
     ]
    }
   ],
   "source": [
    "# use the tuple() function to display the latitude and longitude combinations\n",
    "for coordinate in coordinates:\n",
    "    print(coordinate[0], coordinate[1])"
   ]
  },
  {
   "cell_type": "code",
   "execution_count": 3,
   "id": "9e7e9197",
   "metadata": {},
   "outputs": [],
   "source": [
    "# use the citipy module to determine city based on latitude and longitude \n",
    "from citipy import citipy"
   ]
  },
  {
   "cell_type": "code",
   "execution_count": 4,
   "id": "1b0b4760",
   "metadata": {},
   "outputs": [],
   "source": [
    "# use the tuple() function to display the latitude and longitude combination\n",
    "for coordinate in coordinates:\n",
    "    print(citipy.nearest_city(coordinate[0], coordinate[1]).city_name,\n",
    "          citipy.nearest_city(coordinate[0], coordinate[1]).country_code)"
   ]
  },
  {
   "cell_type": "code",
   "execution_count": 5,
   "id": "ffb8be7c",
   "metadata": {},
   "outputs": [],
   "source": [
    "# import the requests library\n",
    "import requests\n",
    "\n",
    "# import the API key\n",
    "from config import weather_api_key"
   ]
  },
  {
   "cell_type": "code",
   "execution_count": 6,
   "id": "cc46613f",
   "metadata": {},
   "outputs": [],
   "source": [
    "# starting URL for weather map API Call:\n",
    "urlpractice = \"https://api.openweathermap.org/data/2.5/weather?units=Imperial&lat=35&lon=139&appid=\" + weather_api_key"
   ]
  },
  {
   "cell_type": "code",
   "execution_count": 7,
   "id": "dd153982",
   "metadata": {},
   "outputs": [],
   "source": [
    "# starting URL for weather map API call:\n",
    "url = \"https://api.openweathermap.org/data/2.5/weather?units=Imperial&lat={lat}&lon={lon}&appid=\" + weather_api_key"
   ]
  },
  {
   "cell_type": "code",
   "execution_count": 8,
   "id": "c5c06d17",
   "metadata": {},
   "outputs": [],
   "source": [
    "# creat an endpoint URL for a city\n",
    "city_url = url + \"&q=\" + \"Boston\""
   ]
  },
  {
   "cell_type": "code",
   "execution_count": 9,
   "id": "d4261435",
   "metadata": {},
   "outputs": [
    {
     "data": {
      "text/plain": [
       "<Response [200]>"
      ]
     },
     "execution_count": 9,
     "metadata": {},
     "output_type": "execute_result"
    }
   ],
   "source": [
    "# mate a get request for the city weather.\n",
    "city_weather = requests.get(city_url)\n",
    "city_weather"
   ]
  },
  {
   "cell_type": "code",
   "execution_count": 10,
   "id": "53c3dc8f",
   "metadata": {},
   "outputs": [
    {
     "data": {
      "text/plain": [
       "{'coord': {'lon': -71.0598, 'lat': 42.3584},\n",
       " 'weather': [{'id': 800,\n",
       "   'main': 'Clear',\n",
       "   'description': 'clear sky',\n",
       "   'icon': '01n'}],\n",
       " 'base': 'stations',\n",
       " 'main': {'temp': 51.71,\n",
       "  'feels_like': 49.64,\n",
       "  'temp_min': 45.68,\n",
       "  'temp_max': 56.01,\n",
       "  'pressure': 1006,\n",
       "  'humidity': 65},\n",
       " 'visibility': 10000,\n",
       " 'wind': {'speed': 8.01, 'deg': 0, 'gust': 11.01},\n",
       " 'clouds': {'all': 5},\n",
       " 'dt': 1649466712,\n",
       " 'sys': {'type': 2,\n",
       "  'id': 2009921,\n",
       "  'country': 'US',\n",
       "  'sunrise': 1649412877,\n",
       "  'sunset': 1649459826},\n",
       " 'timezone': -14400,\n",
       " 'id': 4930956,\n",
       " 'name': 'Boston',\n",
       " 'cod': 200}"
      ]
     },
     "execution_count": 10,
     "metadata": {},
     "output_type": "execute_result"
    }
   ],
   "source": [
    "# get the JSON text of the 'get' request:\n",
    "city_weather.json()"
   ]
  },
  {
   "cell_type": "code",
   "execution_count": 11,
   "id": "8a4d5722",
   "metadata": {},
   "outputs": [
    {
     "name": "stdout",
     "output_type": "stream",
     "text": [
      "City Weather found.\n"
     ]
    }
   ],
   "source": [
    "# create an endpoint url for a city\n",
    "city_weater = requests.get(city_url)\n",
    "if city_weather.status_code == 200:\n",
    "    print(f\"City Weather found.\")\n",
    "else:\n",
    "    print(f\"City Weather not found.\")\n"
   ]
  },
  {
   "cell_type": "code",
   "execution_count": 12,
   "id": "7117ad53",
   "metadata": {},
   "outputs": [],
   "source": [
    "# Create an endpoint URL for a city.\n",
    "# city_url = url + \"&q=\" + \"Boston\"\n",
    "# city_weather = requests.get(city_url)\n",
    "# if city_weather.status_code == 200:\n",
    "#     print(f\"City Weather found.\")\n",
    "# else:\n",
    "#     print(f\"City weather not found.\")"
   ]
  },
  {
   "cell_type": "code",
   "execution_count": 13,
   "id": "9aeebb34",
   "metadata": {},
   "outputs": [],
   "source": [
    "# get a url to click to check on 400 error\n",
    "#print(city_url)"
   ]
  },
  {
   "cell_type": "code",
   "execution_count": 15,
   "id": "7146b3de",
   "metadata": {},
   "outputs": [
    {
     "data": {
      "text/plain": [
       "{'coord': {'lon': -71.0598, 'lat': 42.3584},\n",
       " 'weather': [{'id': 800,\n",
       "   'main': 'Clear',\n",
       "   'description': 'clear sky',\n",
       "   'icon': '01n'}],\n",
       " 'base': 'stations',\n",
       " 'main': {'temp': 51.71,\n",
       "  'feels_like': 49.64,\n",
       "  'temp_min': 45.68,\n",
       "  'temp_max': 56.01,\n",
       "  'pressure': 1006,\n",
       "  'humidity': 65},\n",
       " 'visibility': 10000,\n",
       " 'wind': {'speed': 8.01, 'deg': 0, 'gust': 11.01},\n",
       " 'clouds': {'all': 5},\n",
       " 'dt': 1649466712,\n",
       " 'sys': {'type': 2,\n",
       "  'id': 2009921,\n",
       "  'country': 'US',\n",
       "  'sunrise': 1649412877,\n",
       "  'sunset': 1649459826},\n",
       " 'timezone': -14400,\n",
       " 'id': 4930956,\n",
       " 'name': 'Boston',\n",
       " 'cod': 200}"
      ]
     },
     "execution_count": 15,
     "metadata": {},
     "output_type": "execute_result"
    }
   ],
   "source": [
    "# create an endpoint url for a city\n",
    "city_url = url + \"&q=\" + \"Boston\"\n",
    "city_weather = requests.get(city_url)\n",
    "city_weather.json()"
   ]
  },
  {
   "cell_type": "code",
   "execution_count": 16,
   "id": "ddeece7d",
   "metadata": {},
   "outputs": [],
   "source": [
    "# get the JSON data\n",
    "boston_data = city_weather.json()"
   ]
  },
  {
   "cell_type": "code",
   "execution_count": 19,
   "id": "b146a3f0",
   "metadata": {},
   "outputs": [
    {
     "data": {
      "text/plain": [
       "{'type': 2,\n",
       " 'id': 2009921,\n",
       " 'country': 'US',\n",
       " 'sunrise': 1649412877,\n",
       " 'sunset': 1649459826}"
      ]
     },
     "execution_count": 19,
     "metadata": {},
     "output_type": "execute_result"
    }
   ],
   "source": [
    "# get the JSON data \"sys\" dictionary with the value sys\n",
    "boston_data[\"sys\"]"
   ]
  },
  {
   "cell_type": "code",
   "execution_count": 20,
   "id": "79697ea9",
   "metadata": {},
   "outputs": [
    {
     "data": {
      "text/plain": [
       "'US'"
      ]
     },
     "execution_count": 20,
     "metadata": {},
     "output_type": "execute_result"
    }
   ],
   "source": [
    "# drill into the \"sys\" dictionary down to the next \"country\" item\n",
    "boston_data[\"sys\"][\"country\"]"
   ]
  },
  {
   "cell_type": "code",
   "execution_count": 21,
   "id": "e744ac64",
   "metadata": {},
   "outputs": [
    {
     "data": {
      "text/plain": [
       "1649466712"
      ]
     },
     "execution_count": 21,
     "metadata": {},
     "output_type": "execute_result"
    }
   ],
   "source": [
    "# get the JSON data \n",
    "boston_data[\"dt\"]"
   ]
  },
  {
   "cell_type": "code",
   "execution_count": 22,
   "id": "75cba315",
   "metadata": {},
   "outputs": [
    {
     "name": "stdout",
     "output_type": "stream",
     "text": [
      "42.3584 -71.0598 56.01 65 5 8.01\n"
     ]
    }
   ],
   "source": [
    "lat = boston_data[\"coord\"][\"lat\"]\n",
    "lng = boston_data[\"coord\"][\"lon\"]\n",
    "max_temp = boston_data[\"main\"][\"temp_max\"]\n",
    "humidity = boston_data[\"main\"][\"humidity\"]\n",
    "clouds = boston_data[\"clouds\"][\"all\"]\n",
    "wind = boston_data[\"wind\"][\"speed\"]\n",
    "print(lat, lng, max_temp, humidity, clouds, wind)"
   ]
  },
  {
   "cell_type": "code",
   "execution_count": 23,
   "id": "356547a3",
   "metadata": {},
   "outputs": [
    {
     "data": {
      "text/plain": [
       "datetime.datetime(2022, 4, 9, 1, 11, 52)"
      ]
     },
     "execution_count": 23,
     "metadata": {},
     "output_type": "execute_result"
    }
   ],
   "source": [
    "# import the datetime module from the datetime library\n",
    "from datetime import datetime\n",
    "# get the date from the json file\n",
    "date = boston_data[\"dt\"]\n",
    "# convert the UTC date to an ISO date format with year, month, day, hours, minutes, seconds\n",
    "datetime.utcfromtimestamp(date)"
   ]
  },
  {
   "cell_type": "code",
   "execution_count": 26,
   "id": "c973012e",
   "metadata": {},
   "outputs": [
    {
     "data": {
      "text/plain": [
       "'2022-04-09 01:11:52'"
      ]
     },
     "execution_count": 26,
     "metadata": {},
     "output_type": "execute_result"
    }
   ],
   "source": [
    "# convert to time format:\n",
    "datetime.utcfromtimestamp(date).strftime(\"%Y-%m-%d %H:%M:%S\")"
   ]
  },
  {
   "cell_type": "code",
   "execution_count": 1,
   "id": "8276710f",
   "metadata": {},
   "outputs": [
    {
     "data": {
      "text/plain": [
       "1649989401.2252693"
      ]
     },
     "execution_count": 1,
     "metadata": {},
     "output_type": "execute_result"
    }
   ],
   "source": [
    "# import the time module\n",
    "import time\n",
    "# get todays date in seconds\n",
    "today = time.time()\n",
    "today"
   ]
  },
  {
   "cell_type": "code",
   "execution_count": 2,
   "id": "c846dd4f",
   "metadata": {},
   "outputs": [
    {
     "data": {
      "text/plain": [
       "'04/14/22'"
      ]
     },
     "execution_count": 2,
     "metadata": {},
     "output_type": "execute_result"
    }
   ],
   "source": [
    "# convert using string format method\n",
    "today = time.strftime(\"%x\")\n",
    "today"
   ]
  },
  {
   "cell_type": "code",
   "execution_count": null,
   "id": "dfe4875d",
   "metadata": {},
   "outputs": [],
   "source": []
  }
 ],
 "metadata": {
  "kernelspec": {
   "display_name": "PythonData",
   "language": "python",
   "name": "pythondata"
  },
  "language_info": {
   "codemirror_mode": {
    "name": "ipython",
    "version": 3
   },
   "file_extension": ".py",
   "mimetype": "text/x-python",
   "name": "python",
   "nbconvert_exporter": "python",
   "pygments_lexer": "ipython3",
   "version": "3.9.7"
  }
 },
 "nbformat": 4,
 "nbformat_minor": 5
}
