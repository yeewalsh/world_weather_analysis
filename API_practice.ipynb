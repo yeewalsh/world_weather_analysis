{
 "cells": [
  {
   "cell_type": "code",
   "execution_count": 9,
   "id": "fe4b5f99",
   "metadata": {},
   "outputs": [],
   "source": [
    "# create a practice set of random latitude and longitude combinations\n",
    "x = [25.12903645, 25.92017388, 26.62509167, -59.98969384, 37.30571269]\n",
    "y = [-67.59741259, 11.09532135, 74.84233102, -76.89176677, -61.13376282]\n",
    "coordinates = zip(x, y)"
   ]
  },
  {
   "cell_type": "code",
   "execution_count": 10,
   "id": "034112f3",
   "metadata": {},
   "outputs": [
    {
     "name": "stdout",
     "output_type": "stream",
     "text": [
      "25.12903645 -67.59741259\n",
      "25.92017388 11.09532135\n",
      "26.62509167 74.84233102\n",
      "-59.98969384 -76.89176677\n",
      "37.30571269 -61.13376282\n"
     ]
    }
   ],
   "source": [
    "# use the tuple() function to display the latitude and longitude combinations\n",
    "for coordinate in coordinates:\n",
    "    print(coordinate[0], coordinate[1])"
   ]
  },
  {
   "cell_type": "code",
   "execution_count": 11,
   "id": "9e7e9197",
   "metadata": {},
   "outputs": [],
   "source": [
    "# use the citipy module to determine city based on latitude and longitude \n",
    "from citipy import citipy"
   ]
  },
  {
   "cell_type": "code",
   "execution_count": 12,
   "id": "1b0b4760",
   "metadata": {},
   "outputs": [],
   "source": [
    "# use the tuple() function to display the latitude and longitude combination\n",
    "for coordinate in coordinates:\n",
    "    print(citipy.nearest_city(coordinate[0], coordinate[1]).city_name,\n",
    "          citipy.nearest_city(coordinate[0], coordinate[1]).country_code)"
   ]
  },
  {
   "cell_type": "code",
   "execution_count": 15,
   "id": "ffb8be7c",
   "metadata": {},
   "outputs": [],
   "source": [
    "# import the requests library\n",
    "import requests\n",
    "\n",
    "# import the API key\n",
    "from config import weather_api_key"
   ]
  },
  {
   "cell_type": "code",
   "execution_count": 22,
   "id": "cc46613f",
   "metadata": {},
   "outputs": [],
   "source": [
    "# starting URL for weather map API Call:\n",
    "urlpractice = \"https://api.openweathermap.org/data/2.5/weather?units=Imperial&lat=35&lon=139&appid=\" + weather_api_key"
   ]
  },
  {
   "cell_type": "code",
   "execution_count": 23,
   "id": "dd153982",
   "metadata": {},
   "outputs": [],
   "source": [
    "# starting URL for weather map API call:\n",
    "url = \"https://api.openweathermap.org/data/2.5/weather?units=Imperial&lat={lat}&lon={lon}&appid=\" + weather_api_key"
   ]
  },
  {
   "cell_type": "code",
   "execution_count": 27,
   "id": "c5c06d17",
   "metadata": {},
   "outputs": [],
   "source": [
    "# creat an endpoint URL for a city\n",
    "city_url = url + \"&q=\" + \"Boston\""
   ]
  }
 ],
 "metadata": {
  "kernelspec": {
   "display_name": "PythonData",
   "language": "python",
   "name": "pythondata"
  },
  "language_info": {
   "codemirror_mode": {
    "name": "ipython",
    "version": 3
   },
   "file_extension": ".py",
   "mimetype": "text/x-python",
   "name": "python",
   "nbconvert_exporter": "python",
   "pygments_lexer": "ipython3",
   "version": "3.9.7"
  }
 },
 "nbformat": 4,
 "nbformat_minor": 5
}
