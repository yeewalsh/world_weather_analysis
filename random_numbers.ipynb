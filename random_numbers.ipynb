{
 "cells": [
  {
   "cell_type": "code",
   "execution_count": 1,
   "id": "a6904d97",
   "metadata": {},
   "outputs": [],
   "source": [
    "# Import the random module\n",
    "import random"
   ]
  },
  {
   "cell_type": "code",
   "execution_count": 7,
   "id": "5b8e8866",
   "metadata": {},
   "outputs": [
    {
     "data": {
      "text/plain": [
       "5"
      ]
     },
     "execution_count": 7,
     "metadata": {},
     "output_type": "execute_result"
    }
   ],
   "source": [
    "# Generates a random integer between the range passed in parenthesis\n",
    "random.randint(-10,10)"
   ]
  },
  {
   "cell_type": "code",
   "execution_count": 4,
   "id": "fb83406f",
   "metadata": {},
   "outputs": [
    {
     "data": {
      "text/plain": [
       "0.2389589605597956"
      ]
     },
     "execution_count": 4,
     "metadata": {},
     "output_type": "execute_result"
    }
   ],
   "source": [
    "# generates random floating point decimal between 0 and 1\n",
    "random.random()\n"
   ]
  },
  {
   "cell_type": "code",
   "execution_count": 12,
   "id": "04789288",
   "metadata": {},
   "outputs": [
    {
     "data": {
      "text/plain": [
       "-5"
      ]
     },
     "execution_count": 12,
     "metadata": {},
     "output_type": "execute_result"
    }
   ],
   "source": [
    "# random gererated im \n",
    "random.randrange(-9,9,2)"
   ]
  },
  {
   "cell_type": "code",
   "execution_count": 14,
   "id": "4a3cd517",
   "metadata": {},
   "outputs": [
    {
     "data": {
      "text/plain": [
       "-3.7675901960735247"
      ]
     },
     "execution_count": 14,
     "metadata": {},
     "output_type": "execute_result"
    }
   ],
   "source": [
    "# random floating point decimals between the range passed in parenthesis\n",
    "random.uniform(-10,10)"
   ]
  },
  {
   "cell_type": "code",
   "execution_count": 17,
   "id": "7df0ec7d",
   "metadata": {},
   "outputs": [
    {
     "data": {
      "text/plain": [
       "84"
      ]
     },
     "execution_count": 17,
     "metadata": {},
     "output_type": "execute_result"
    }
   ],
   "source": [
    "random.randint(-90,90)"
   ]
  },
  {
   "cell_type": "code",
   "execution_count": 18,
   "id": "f6f016c1",
   "metadata": {},
   "outputs": [
    {
     "data": {
      "text/plain": [
       "-52.494363356688744"
      ]
     },
     "execution_count": 18,
     "metadata": {},
     "output_type": "execute_result"
    }
   ],
   "source": [
    "# combine random and randint functions to get the random latitude:\n",
    "random_number = random.randint(-90,89) + random.random()\n",
    "random_number"
   ]
  },
  {
   "cell_type": "code",
   "execution_count": 20,
   "id": "6f969b77",
   "metadata": {},
   "outputs": [
    {
     "data": {
      "text/plain": [
       "[56.488509150360095,\n",
       " -21.584200091891617,\n",
       " -26.84527069495724,\n",
       " 81.63880231410987,\n",
       " 50.86144053747977,\n",
       " -47.693518235836024,\n",
       " -73.12483910251987,\n",
       " 29.94594953253728,\n",
       " -52.08638425484689,\n",
       " 24.122533503457348]"
      ]
     },
     "execution_count": 20,
     "metadata": {},
     "output_type": "execute_result"
    }
   ],
   "source": [
    "# use while loop to generate 10 random latitudes and append them to a list\n",
    "x = 1\n",
    "latitudes = []\n",
    "while x < 11:\n",
    "    random_lat = random.randint(-90, 89) + random.random()\n",
    "    latitudes.append(random_lat)\n",
    "    x += 1\n",
    "    \n",
    "latitudes"
   ]
  },
  {
   "cell_type": "code",
   "execution_count": 22,
   "id": "5cf00946",
   "metadata": {},
   "outputs": [
    {
     "data": {
      "text/plain": [
       "-38.71995215184869"
      ]
     },
     "execution_count": 22,
     "metadata": {},
     "output_type": "execute_result"
    }
   ],
   "source": [
    "# uniform function is better for generating latitudes - returns a floating-point decimal number\n",
    "random.uniform(-90,90)\n"
   ]
  },
  {
   "cell_type": "code",
   "execution_count": 23,
   "id": "1abcf6ac",
   "metadata": {},
   "outputs": [],
   "source": [
    "# import numpy\n",
    "import numpy as np"
   ]
  },
  {
   "cell_type": "code",
   "execution_count": 24,
   "id": "3cf49426",
   "metadata": {},
   "outputs": [
    {
     "data": {
      "text/plain": [
       "50.28394806284223"
      ]
     },
     "execution_count": 24,
     "metadata": {},
     "output_type": "execute_result"
    }
   ],
   "source": [
    "# chain the random.uniform to np and add a range\n",
    "np.random.uniform(-90.000, 90.000)"
   ]
  },
  {
   "cell_type": "code",
   "execution_count": 25,
   "id": "d729fe22",
   "metadata": {},
   "outputs": [
    {
     "data": {
      "text/plain": [
       "array([  8.16892281,  26.28843687,  -3.04696178, -88.9064045 ,\n",
       "        79.71630393,  30.17228359, -11.19539679, -58.30971998,\n",
       "       -55.34925256, -73.55404484, -85.40305488, -32.32158267,\n",
       "        29.12037057, -67.39683954, -35.52037285,  55.22172542,\n",
       "        56.65813331,  -9.96808422,  28.24667116, -66.95141875,\n",
       "         0.66123928, -75.27170241, -18.47335688,  34.19179089,\n",
       "       -88.78333323, -10.48482649, -47.52141665, -11.20431864,\n",
       "       -85.20233104,  48.67259281, -62.50062483,  10.7496585 ,\n",
       "       -36.51511579, -62.61281148,  66.27986965,  68.57640827,\n",
       "       -26.37785081, -52.35360103,  60.68671318, -30.07904272,\n",
       "        47.35957964,  84.01107529,  45.50797543,  87.0077872 ,\n",
       "        -1.27045732,  58.8730304 ,  -7.28839902,  84.98844196,\n",
       "       -74.38995521,  39.44665595])"
      ]
     },
     "execution_count": 25,
     "metadata": {},
     "output_type": "execute_result"
    }
   ],
   "source": [
    "# use the size parameter to get an array\n",
    "np.random.uniform(-90.000, 90.000, size=50)"
   ]
  },
  {
   "cell_type": "code",
   "execution_count": 26,
   "id": "28059f42",
   "metadata": {},
   "outputs": [],
   "source": [
    "# Import timeit to test the code speed\n",
    "import timeit"
   ]
  },
  {
   "cell_type": "code",
   "execution_count": 27,
   "id": "b52fb74b",
   "metadata": {},
   "outputs": [
    {
     "name": "stdout",
     "output_type": "stream",
     "text": [
      "17 µs ± 1.01 µs per loop (mean ± std. dev. of 7 runs, 100000 loops each)\n"
     ]
    }
   ],
   "source": [
    "# enter %timeit command before your code:\n",
    "%timeit np.random.uniform(-90.000, 90.000, size=1500)"
   ]
  },
  {
   "cell_type": "code",
   "execution_count": 30,
   "id": "2b374aa7",
   "metadata": {},
   "outputs": [
    {
     "name": "stdout",
     "output_type": "stream",
     "text": [
      "1.55 ms ± 65.1 µs per loop (mean ± std. dev. of 7 runs, 1000 loops each)\n"
     ]
    }
   ],
   "source": [
    "# time the while loop\n",
    "def latitudes(size):\n",
    "    latitudes = []\n",
    "    x = 0\n",
    "    while x < (size):\n",
    "        random_lat = random.randint(-90, 90) + random.random()\n",
    "        latitudes.append(random_lat)\n",
    "        x += 1\n",
    "    return latitudes\n",
    "# call the function with 1500\n",
    "%timeit latitudes(1500)"
   ]
  }
 ],
 "metadata": {
  "kernelspec": {
   "display_name": "PythonData",
   "language": "python",
   "name": "pythondata"
  },
  "language_info": {
   "codemirror_mode": {
    "name": "ipython",
    "version": 3
   },
   "file_extension": ".py",
   "mimetype": "text/x-python",
   "name": "python",
   "nbconvert_exporter": "python",
   "pygments_lexer": "ipython3",
   "version": "3.9.7"
  }
 },
 "nbformat": 4,
 "nbformat_minor": 5
}
